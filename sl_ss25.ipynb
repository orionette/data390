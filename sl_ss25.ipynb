{
 "cells": [
  {
   "cell_type": "code",
   "execution_count": 4,
   "id": "ab89c7b6-a032-43cf-a1c8-5232cfdbad5e",
   "metadata": {},
   "outputs": [
    {
     "name": "stdout",
     "output_type": "stream",
     "text": [
      "Starting script...\n",
      "Requests imported\n",
      "BeautifulSoup imported\n",
      "Sending request...\n",
      "Response received: 200\n",
      "Soup parsed successfully\n"
     ]
    }
   ],
   "source": [
    "print(\"Starting script...\")\n",
    "import requests\n",
    "print(\"Requests imported\")\n",
    "from bs4 import BeautifulSoup\n",
    "print(\"BeautifulSoup imported\")\n",
    "import os\n",
    "\n",
    "url = 'https://www.sandyliang.info/pages/ss25'\n",
    "headers = {'User-Agent': \"Mozilla/5.0 (Windows NT 10.0; Win64; x64) AppleWebKit/537.36 (KHTML, like Gecko) Chrome/120.0.0.0 Safari/537.36\"}\n",
    "\n",
    "print(\"Sending request...\")\n",
    "r = requests.get(url=url, headers=headers, timeout=10)\n",
    "print(f\"Response received: {r.status_code}\")\n",
    "\n",
    "soup = BeautifulSoup(r.content, 'html.parser')\n",
    "print(\"Soup parsed successfully\")\n"
   ]
  },
  {
   "cell_type": "code",
   "execution_count": 5,
   "id": "9f0b7bd0-b5e2-46b9-bab8-d57bca5f7610",
   "metadata": {},
   "outputs": [],
   "source": [
    "main = soup.find('main')\n",
    "#print(main)"
   ]
  },
  {
   "cell_type": "code",
   "execution_count": 6,
   "id": "a47aa6f3-e72b-48d3-b262-f3ccf051af25",
   "metadata": {},
   "outputs": [
    {
     "data": {
      "text/plain": [
       "33"
      ]
     },
     "execution_count": 6,
     "metadata": {},
     "output_type": "execute_result"
    }
   ],
   "source": [
    "# find all sections\n",
    "section = main.find_all('img')\n",
    "len(section)"
   ]
  },
  {
   "cell_type": "code",
   "execution_count": 9,
   "id": "4b95b8d0-defd-49c6-872f-9d30e4daa8c5",
   "metadata": {},
   "outputs": [
    {
     "name": "stdout",
     "output_type": "stream",
     "text": [
      "Downloading: https://www.sandyliang.info/cdn/shop/files/FIO00020_335x.jpg?v=1725992240\n",
      "Saved: images/1_ss25.jpg\n",
      "Downloading: https://www.sandyliang.info/cdn/shop/files/FIO00041_335x.jpg?v=1725992334\n",
      "Saved: images/2_ss25.jpg\n",
      "Downloading: https://www.sandyliang.info/cdn/shop/files/FIO00067_335x.jpg?v=1725992354\n",
      "Saved: images/3_ss25.jpg\n",
      "Downloading: https://www.sandyliang.info/cdn/shop/files/FIO00091_335x.jpg?v=1725992370\n",
      "Saved: images/4_ss25.jpg\n",
      "Downloading: https://www.sandyliang.info/cdn/shop/files/FIO00122_335x.jpg?v=1725992386\n",
      "Saved: images/5_ss25.jpg\n",
      "Downloading: https://www.sandyliang.info/cdn/shop/files/FIO00149_335x.jpg?v=1725992401\n",
      "Saved: images/6_ss25.jpg\n",
      "Downloading: https://www.sandyliang.info/cdn/shop/files/FIO00166_335x.jpg?v=1725992417\n",
      "Saved: images/7_ss25.jpg\n",
      "Downloading: https://www.sandyliang.info/cdn/shop/files/FIO00190_335x.jpg?v=1725992447\n",
      "Saved: images/8_ss25.jpg\n",
      "Downloading: https://www.sandyliang.info/cdn/shop/files/FIO00224_335x.jpg?v=1725992465\n",
      "Saved: images/9_ss25.jpg\n",
      "Downloading: https://www.sandyliang.info/cdn/shop/files/FIO00246_335x.jpg?v=1725992480\n",
      "Saved: images/10_ss25.jpg\n",
      "Downloading: https://www.sandyliang.info/cdn/shop/files/FIO00271_335x.jpg?v=1725992497\n",
      "Saved: images/11_ss25.jpg\n",
      "Downloading: https://www.sandyliang.info/cdn/shop/files/FIO00288_335x.jpg?v=1725992512\n",
      "Saved: images/12_ss25.jpg\n",
      "Downloading: https://www.sandyliang.info/cdn/shop/files/FIO00308_335x.jpg?v=1725992538\n",
      "Saved: images/13_ss25.jpg\n",
      "Downloading: https://www.sandyliang.info/cdn/shop/files/FIO00338_335x.jpg?v=1725992554\n",
      "Saved: images/14_ss25.jpg\n",
      "Downloading: https://www.sandyliang.info/cdn/shop/files/FIO00369_335x.jpg?v=1725992568\n",
      "Saved: images/15_ss25.jpg\n",
      "Downloading: https://www.sandyliang.info/cdn/shop/files/FIO00390_335x.jpg?v=1725992582\n",
      "Saved: images/16_ss25.jpg\n",
      "Downloading: https://www.sandyliang.info/cdn/shop/files/FIO00424_335x.jpg?v=1725992688\n",
      "Saved: images/17_ss25.jpg\n",
      "Downloading: https://www.sandyliang.info/cdn/shop/files/FIO00448_335x.jpg?v=1725992701\n",
      "Saved: images/18_ss25.jpg\n",
      "Downloading: https://www.sandyliang.info/cdn/shop/files/FIO00480_335x.jpg?v=1725992714\n",
      "Saved: images/19_ss25.jpg\n",
      "Downloading: https://www.sandyliang.info/cdn/shop/files/FIO00508_335x.jpg?v=1725992729\n",
      "Saved: images/20_ss25.jpg\n",
      "Downloading: https://www.sandyliang.info/cdn/shop/files/FIO00538_335x.jpg?v=1725992744\n",
      "Saved: images/21_ss25.jpg\n",
      "Downloading: https://www.sandyliang.info/cdn/shop/files/FIO00562_335x.jpg?v=1725992759\n",
      "Saved: images/22_ss25.jpg\n",
      "Downloading: https://www.sandyliang.info/cdn/shop/files/FIO00595_335x.jpg?v=1725992778\n",
      "Saved: images/23_ss25.jpg\n",
      "Downloading: https://www.sandyliang.info/cdn/shop/files/FIO00627_335x.jpg?v=1725992795\n",
      "Saved: images/24_ss25.jpg\n",
      "Downloading: https://www.sandyliang.info/cdn/shop/files/FIO00657_335x.jpg?v=1725992810\n",
      "Saved: images/25_ss25.jpg\n",
      "Downloading: https://www.sandyliang.info/cdn/shop/files/FIO00696_335x.jpg?v=1725992825\n",
      "Saved: images/26_ss25.jpg\n",
      "Downloading: https://www.sandyliang.info/cdn/shop/files/FIO00723_335x.jpg?v=1725992844\n",
      "Saved: images/27_ss25.jpg\n",
      "Downloading: https://www.sandyliang.info/cdn/shop/files/FIO00754_335x.jpg?v=1725992861\n",
      "Saved: images/28_ss25.jpg\n",
      "Downloading: https://www.sandyliang.info/cdn/shop/files/FIO00783_335x.jpg?v=1725992877\n",
      "Saved: images/29_ss25.jpg\n",
      "Downloading: https://www.sandyliang.info/cdn/shop/files/FIO00809_335x.jpg?v=1725992892\n",
      "Saved: images/30_ss25.jpg\n",
      "Downloading: https://www.sandyliang.info/cdn/shop/files/FIO00831_335x.jpg?v=1725992905\n",
      "Saved: images/31_ss25.jpg\n",
      "Downloading: https://www.sandyliang.info/cdn/shop/files/FIO00855_335x.jpg?v=1725992918\n",
      "Saved: images/32_ss25.jpg\n",
      "Downloading: https://www.sandyliang.info/cdn/shop/files/FIO00885_335x.jpg?v=1725992933\n",
      "Saved: images/33_ss25.jpg\n"
     ]
    }
   ],
   "source": [
    "# define folder for saved images\n",
    "folder = \"images\" \n",
    "\n",
    "for idx, i in enumerate(section, start=1):\n",
    "    src = i.get('src')\n",
    "    \n",
    "    if src.startswith(\"//\"):\n",
    "        src = \"https:\" + src  # Fix relative URLs\n",
    "\n",
    "    print(f\"Downloading: {src}\")\n",
    "\n",
    "    try:\n",
    "        # assign numbered filename\n",
    "        filename = f\"{idx}_ss25.jpg\"\n",
    "\n",
    "        # construct path\n",
    "        filepath = os.path.join(folder, filename)\n",
    "\n",
    "        # download image\n",
    "        ss25 = requests.get(src, headers=headers)\n",
    "        \n",
    "        if ss25.status_code == 200:\n",
    "            with open(filepath, 'wb') as f:\n",
    "                f.write(ss25.content)\n",
    "            print(f\"Saved: {filepath}\")\n",
    "        else:\n",
    "            print(f\"Error getting {filename}, Status Code: {ss25.status_code}\")\n",
    "\n",
    "    except Exception as e:\n",
    "        print(f\"Error processing {src}: {e}\")\n"
   ]
  }
 ],
 "metadata": {
  "kernelspec": {
   "display_name": "Python 3 (ipykernel)",
   "language": "python",
   "name": "python3"
  },
  "language_info": {
   "codemirror_mode": {
    "name": "ipython",
    "version": 3
   },
   "file_extension": ".py",
   "mimetype": "text/x-python",
   "name": "python",
   "nbconvert_exporter": "python",
   "pygments_lexer": "ipython3",
   "version": "3.12.6"
  }
 },
 "nbformat": 4,
 "nbformat_minor": 5
}
